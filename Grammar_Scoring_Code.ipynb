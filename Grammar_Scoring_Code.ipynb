{
 "cells": [
  {
   "cell_type": "code",
   "execution_count": null,
   "id": "e8b7dfc4",
   "metadata": {},
   "outputs": [],
   "source": [
    "pip install -U openai-whisper"
   ]
  },
  {
   "cell_type": "code",
   "execution_count": null,
   "id": "ca8c549f",
   "metadata": {},
   "outputs": [],
   "source": [
    "pip install language_tool_python"
   ]
  },
  {
   "cell_type": "code",
   "execution_count": null,
   "id": "cc1e2913",
   "metadata": {},
   "outputs": [],
   "source": [
    "####################################\n",
    "### The Base Model (GPU Version) ###\n",
    "####################################\n",
    "\n",
    "# Import Necessary Libraries\n",
    "import os\n",
    "import numpy as np\n",
    "import pandas as pd\n",
    "import cupy as cp\n",
    "from sklearn.preprocessing import StandardScaler\n",
    "from sklearn.metrics import classification_report, confusion_matrix, mean_squared_error\n",
    "import language_tool_python\n",
    "import torch\n",
    "import whisper\n",
    "from transformers import BertTokenizer, BertModel\n",
    "import xgboost as xgb\n",
    "from google.colab import drive\n",
    "from google.colab import files"
   ]
  },
  {
   "cell_type": "code",
   "execution_count": null,
   "id": "3f459e73",
   "metadata": {},
   "outputs": [],
   "source": [
    "# Set device\n",
    "device = torch.device(\"cuda\" if torch.cuda.is_available() else \"cpu\")\n",
    "print(f\"Using device: {device}\")"
   ]
  },
  {
   "cell_type": "code",
   "execution_count": null,
   "id": "9f79b0ef",
   "metadata": {},
   "outputs": [],
   "source": [
    "# Mount Google Drive\n",
    "drive.mount('/content/drive')\n",
    "\n",
    "# Paths\n",
    "TRAIN_AUDIO_DIR = \"/content/drive/My Drive/Grammar Scoring/audios_train\"\n",
    "TEST_AUDIO_DIR = \"/content/drive/My Drive/Grammar Scoring/audios_test\"\n",
    "TRAIN_CSV = \"/content/drive/My Drive/Grammar Scoring/train.csv\"\n",
    "TEST_CSV = \"/content/drive/My Drive/Grammar Scoring/test.csv\""
   ]
  },
  {
   "cell_type": "code",
   "execution_count": null,
   "id": "5efcee64",
   "metadata": {},
   "outputs": [],
   "source": [
    "# Step 1: Load Whisper model for speech-to-text (GPU-enabled)\n",
    "try:\n",
    "    whisper_model = whisper.load_model(\"base\").to(device)\n",
    "except Exception as e:\n",
    "    print(f\"Error loading Whisper model: {e}\")\n",
    "    raise"
   ]
  },
  {
   "cell_type": "code",
   "execution_count": null,
   "id": "d114d55e",
   "metadata": {},
   "outputs": [],
   "source": [
    "# Step 2: Initialize LanguageTool and BERT (BERT on GPU)\n",
    "grammar_tool = language_tool_python.LanguageTool(\"en-US\")\n",
    "bert_tokenizer = BertTokenizer.from_pretrained(\"bert-base-uncased\")\n",
    "bert_model = BertModel.from_pretrained(\"bert-base-uncased\").to(device)"
   ]
  },
  {
   "cell_type": "code",
   "execution_count": null,
   "id": "b1847f0c",
   "metadata": {},
   "outputs": [],
   "source": [
    "# Function to convert audio to text (GPU-accelerated Whisper)\n",
    "def audio_to_text(audio_path):\n",
    "    try:\n",
    "        result = whisper_model.transcribe(audio_path, fp16=(device.type == \"cuda\"))\n",
    "        return result[\"text\"]\n",
    "    except Exception as e:\n",
    "        print(f\"Error transcribing {audio_path}: {e}\")\n",
    "        return \"\""
   ]
  },
  {
   "cell_type": "code",
   "execution_count": null,
   "id": "6d97f1d2",
   "metadata": {},
   "outputs": [],
   "source": [
    "# Function to extract grammar features (CPU-bound)\n",
    "def get_grammar_features(text):\n",
    "    try:\n",
    "        matches = grammar_tool.check(text)\n",
    "        return len(matches)\n",
    "    except Exception as e:\n",
    "        print(f\"Error checking grammar: {e}\")\n",
    "        return 0"
   ]
  },
  {
   "cell_type": "code",
   "execution_count": null,
   "id": "eaed46a8",
   "metadata": {},
   "outputs": [],
   "source": [
    "# Function to extract BERT embeddings (GPU-accelerated)\n",
    "def get_bert_embeddings(text):\n",
    "    try:\n",
    "        inputs = bert_tokenizer(text, return_tensors=\"pt\", truncation=True, padding=True, max_length=128).to(device)\n",
    "        with torch.no_grad():\n",
    "            outputs = bert_model(**inputs)\n",
    "        return outputs.last_hidden_state[:, 0, :].squeeze().cpu().numpy()  # CLS token to NumPy\n",
    "    except Exception as e:\n",
    "        print(f\"Error generating BERT embeddings: {e}\")\n",
    "        return np.zeros(768)  # Default embedding size for bert-base-uncased"
   ]
  },
  {
   "cell_type": "code",
   "execution_count": null,
   "id": "1950865d",
   "metadata": {},
   "outputs": [],
   "source": [
    "# Step 3: Process training data\n",
    "train_df = pd.read_csv(TRAIN_CSV)\n",
    "train_features = []\n",
    "valid_indices = []  # To track valid samples\n",
    "\n",
    "print(\"Transcribed texts from training audio files:\")\n",
    "for idx, filename in enumerate(train_df[\"filename\"]):\n",
    "    audio_path = os.path.join(TRAIN_AUDIO_DIR, filename)\n",
    "    text = audio_to_text(audio_path)\n",
    "    \n",
    "    if not text:  # Skip if transcription failed\n",
    "        print(f\"{idx + 1}. {filename}: 'Transcription failed'\")\n",
    "        continue\n",
    "\n",
    "    print(f\"{idx + 1}. {filename}: '{text}'\")\n",
    "\n",
    "    # Extract features\n",
    "    grammar_score = get_grammar_features(text)\n",
    "    bert_emb = get_bert_embeddings(text)\n",
    "\n",
    "    # Combine features (keep in NumPy for simplicity)\n",
    "    features = np.concatenate([[grammar_score], bert_emb])\n",
    "    train_features.append(features)\n",
    "    valid_indices.append(idx)  # Record valid sample index\n",
    "    "
   ]
  },
  {
   "cell_type": "code",
   "execution_count": null,
   "id": "1c65adbc",
   "metadata": {},
   "outputs": [],
   "source": [
    "# Convert to NumPy array for training\n",
    "X_train = np.array(train_features)\n",
    "y_train = train_df[\"label\"].iloc[valid_indices].values  # Filter labels to match valid samples\n",
    "\n",
    "if len(X_train) == 0:\n",
    "    raise ValueError(\"No valid training samples were processed. Check audio files or transcription process.\")"
   ]
  },
  {
   "cell_type": "code",
   "execution_count": null,
   "id": "585d754c",
   "metadata": {},
   "outputs": [],
   "source": [
    "# Scale features (NumPy-based, as StandardScaler doesn't support CuPy natively)\n",
    "scaler = StandardScaler()\n",
    "X_train_scaled = scaler.fit_transform(X_train)"
   ]
  },
  {
   "cell_type": "code",
   "execution_count": null,
   "id": "763561c6",
   "metadata": {},
   "outputs": [],
   "source": [
    "# Step 4: Train XGBoost model (GPU-enabled)\n",
    "xgb_params = {\n",
    "    \"objective\": \"reg:squarederror\",\n",
    "    \"n_estimators\": 100,\n",
    "    \"max_depth\": 5,\n",
    "    \"learning_rate\": 0.1,\n",
    "    \"random_state\": 42,\n",
    "    \"tree_method\": \"hist\" if device.type == \"cuda\" else \"auto\",  # GPU acceleration if available\n",
    "    \"device\": \"cuda\" if device.type == \"cuda\" else \"cpu\"\n",
    "}\n",
    "xgb_model = xgb.XGBRegressor(**xgb_params)\n",
    "try:\n",
    "    xgb_model.fit(X_train_scaled, y_train)\n",
    "except Exception as e:\n",
    "    print(f\"Error training XGBoost: {e}\")\n",
    "    raise"
   ]
  },
  {
   "cell_type": "code",
   "execution_count": null,
   "id": "87c71899",
   "metadata": {},
   "outputs": [],
   "source": [
    "# Step 4.1: Evaluation of model performance on training data\n",
    "y_train_pred = xgb_model.predict(X_train_scaled)\n",
    "y_train_pred_rounded = np.clip(np.round(y_train_pred), 1.0, 5.0)  # Round to nearest integer and clip\n",
    "y_train_rounded = np.clip(np.round(y_train), 1.0, 5.0)  # Round actual labels for classification metrics\n",
    "\n",
    "print(\"\\nModel Performance on Training Data\")\n",
    "print(\"Classification Report:\")\n",
    "print(classification_report(y_train_rounded, y_train_pred_rounded, target_names=[f\"Score {i}\" for i in range(1, 6)]))\n",
    "print(\"Confusion Matrix:\")\n",
    "print(confusion_matrix(y_train_rounded, y_train_pred_rounded))\n",
    "mse = mean_squared_error(y_train_rounded, y_train_pred_rounded)\n",
    "print(f\"\\nMean Squared Error: {mse:.4f}\")"
   ]
  },
  {
   "cell_type": "code",
   "execution_count": null,
   "id": "77c2614b",
   "metadata": {},
   "outputs": [],
   "source": [
    "# Step 5: Process test data and predict\n",
    "test_df = pd.read_csv(TEST_CSV)\n",
    "test_features = []\n",
    "valid_test_filenames = []  # To track valid test samples\n",
    "\n",
    "print(\"\\nTranscribed texts from test audio files:\")\n",
    "for idx, filename in enumerate(test_df[\"filename\"]):\n",
    "    audio_path = os.path.join(TEST_AUDIO_DIR, filename)\n",
    "    text = audio_to_text(audio_path)\n",
    "    \n",
    "    if not text:  # Skip if transcription failed\n",
    "        print(f\"{idx + 1}. {filename}: 'Transcription failed'\")\n",
    "        continue\n",
    "\n",
    "    print(f\"{idx + 1}. {filename}: '{text}'\")\n",
    "\n",
    "    # Extract features\n",
    "    grammar_score = get_grammar_features(text)\n",
    "    bert_emb = get_bert_embeddings(text)\n",
    "\n",
    "    # Combine features\n",
    "    features = np.concatenate([[grammar_score], bert_emb])\n",
    "    test_features.append(features)\n",
    "    valid_test_filenames.append(filename)  # Record valid filename\n",
    "    "
   ]
  },
  {
   "cell_type": "code",
   "execution_count": null,
   "id": "bb46fe79",
   "metadata": {},
   "outputs": [],
   "source": [
    "# Convert to NumPy array and scale\n",
    "X_test = np.array(test_features)\n",
    "if len(X_test) == 0:\n",
    "    raise ValueError(\"No valid test samples were processed. Check audio files or transcription process.\")\n",
    "X_test_scaled = scaler.transform(X_test)"
   ]
  },
  {
   "cell_type": "code",
   "execution_count": null,
   "id": "9bb384de",
   "metadata": {},
   "outputs": [],
   "source": [
    "# Predict\n",
    "try:\n",
    "    y_test_pred = xgb_model.predict(X_test_scaled)\n",
    "    # Round predictions to nearest 0.5 and clip to [1.0, 5.0] (GPU-accelerated)\n",
    "    y_test_pred_cp = cp.array(y_test_pred)\n",
    "    y_test_pred_rounded = cp.clip(cp.round(y_test_pred_cp * 2) / 2, 1.0, 5.0).get()  # Back to NumPy\n",
    "    print(\"\\nPredicted scores:\", y_test_pred_rounded)\n",
    "except Exception as e:\n",
    "    print(f\"Error predicting with XGBoost: {e}\")\n",
    "    raise"
   ]
  },
  {
   "cell_type": "code",
   "execution_count": null,
   "id": "25f8c1e1",
   "metadata": {},
   "outputs": [],
   "source": [
    "# Step 6: Save submission to new file and make it downloadable\n",
    "submission_df = pd.DataFrame({\"filename\": valid_test_filenames, \"label\": y_test_pred_rounded})\n",
    "submission_df.to_csv(\"submission.csv\", index=False)\n",
    "print(\"\\nSubmission saved to submission.csv\")\n",
    "files.download(\"submission.csv\")"
   ]
  }
 ],
 "metadata": {
  "kernelspec": {
   "display_name": "Python 3",
   "language": "python",
   "name": "python3"
  },
  "language_info": {
   "codemirror_mode": {
    "name": "ipython",
    "version": 3
   },
   "file_extension": ".py",
   "mimetype": "text/x-python",
   "name": "python",
   "nbconvert_exporter": "python",
   "pygments_lexer": "ipython3",
   "version": "3.12.1"
  }
 },
 "nbformat": 4,
 "nbformat_minor": 5
}
